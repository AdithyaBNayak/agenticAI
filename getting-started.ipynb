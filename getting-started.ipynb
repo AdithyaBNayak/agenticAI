{
 "cells": [
  {
   "cell_type": "code",
   "execution_count": 26,
   "metadata": {},
   "outputs": [],
   "source": [
    "import os\n",
    "from dotenv import load_dotenv"
   ]
  },
  {
   "cell_type": "code",
   "execution_count": 31,
   "metadata": {},
   "outputs": [],
   "source": [
    "load_dotenv()\n",
    "os.environ[\"OPENAI_API_KEY\"] = os.getenv(\"OPENAI_API_KEY\")\n",
    "\n",
    "## Langsmith Tracking and Tracing\n",
    "os.environ[\"LANGCHAIN_API_KEY\"] = os.getenv(\"LANGCHAIN_API_KEY\")\n",
    "os.environ[\"LANGCHAIN_TRACING_v2\"] = \"true\"\n",
    "os.environ[\"LANGCHAIN_PROJECT\"] = os.getenv(\"LANGCHAIN_PROJECT\")"
   ]
  },
  {
   "cell_type": "code",
   "execution_count": 32,
   "metadata": {},
   "outputs": [
    {
     "name": "stdout",
     "output_type": "stream",
     "text": [
      "client=<openai.resources.chat.completions.completions.Completions object at 0x00000180C0510B00> async_client=<openai.resources.chat.completions.completions.AsyncCompletions object at 0x00000180B6DACE00> root_client=<openai.OpenAI object at 0x00000180BF4A18B0> root_async_client=<openai.AsyncOpenAI object at 0x00000180B6D1ADB0> model_name='o1-mini' temperature=1.0 model_kwargs={} openai_api_key=SecretStr('**********')\n"
     ]
    }
   ],
   "source": [
    "from langchain_openai import ChatOpenAI\n",
    "llm = ChatOpenAI(model=\"o1-mini\")\n",
    "print(llm)"
   ]
  },
  {
   "cell_type": "code",
   "execution_count": 35,
   "metadata": {},
   "outputs": [
    {
     "name": "stdout",
     "output_type": "stream",
     "text": [
      "content='**Agentic AI** refers to artificial intelligence systems designed with agency—the capacity to act independently, make decisions, and pursue goals without constant human supervision. These systems possess varying degrees of autonomy, enabling them to perceive their environment, interpret data, make informed choices, and execute actions to achieve specific objectives. The concept of agency in AI encompasses several key attributes:\\n\\n1. **Autonomy**: Agentic AI can operate without continuous human intervention. It can perform tasks, manage processes, and adapt to changing circumstances on its own.\\n\\n2. **Goal-Oriented Behavior**: These AI systems are typically designed to achieve specific goals or outcomes. They can set sub-goals, prioritize tasks, and develop strategies to reach their objectives.\\n\\n3. **Decision-Making Capability**: Agentic AI can process information, assess situations, weigh options, and make decisions based on predefined criteria or learned experiences.\\n\\n4. **Adaptability and Learning**: Many agentic systems incorporate machine learning algorithms that allow them to learn from interactions, improve performance over time, and adapt to new environments or challenges.\\n\\n5. **Interaction and Communication**: Agentic AI can interact with other systems, humans, or its environment, often using natural language processing, sensors, and actuators to facilitate meaningful communication and responsive actions.\\n\\n### Examples of Agentic AI\\n\\n- **Autonomous Vehicles**: Self-driving cars are a prime example of agentic AI. They navigate roads, make real-time decisions based on sensor data, and respond to dynamic traffic conditions without human input.\\n\\n- **Robotic Process Automation (RPA)**: Advanced robots in manufacturing or logistics that can adapt to different tasks, troubleshoot issues, and optimize workflows autonomously.\\n\\n- **Virtual Assistants**: AI-powered assistants like Siri, Alexa, or advanced chatbots that can manage schedules, control smart home devices, and interact with users proactively.\\n\\n- **Recommendation Systems**: Platforms like Netflix or Amazon use agentic AI to analyze user behavior, predict preferences, and suggest content or products without explicit prompts.\\n\\n### Implications and Considerations\\n\\nWhile agentic AI offers numerous benefits, such as increased efficiency, scalability, and the ability to handle complex tasks, it also raises important ethical and societal considerations:\\n\\n- **Accountability**: Determining responsibility for actions taken by autonomous AI systems can be challenging, especially in critical applications like healthcare or autonomous driving.\\n\\n- **Bias and Fairness**: If the underlying data or algorithms contain biases, agentic AI systems may perpetuate or even exacerbate these issues in their decision-making processes.\\n\\n- **Security**: Autonomous systems must be safeguarded against malicious attacks or unintended behaviors that could lead to harmful outcomes.\\n\\n- **Job Displacement**: Increased automation through agentic AI may impact employment in certain sectors, necessitating strategies for workforce adaptation and retraining.\\n\\n### Future Directions\\n\\nThe development of agentic AI is an ongoing area of research and innovation. Future advancements may focus on enhancing the ethical frameworks governing these systems, improving transparency and explainability of AI decisions, and integrating more sophisticated learning mechanisms to handle increasingly complex and unpredictable environments.\\n\\nIn summary, **Agentic AI** embodies the next generation of intelligent systems capable of autonomous operation, decision-making, and goal-oriented actions, promising transformative impacts across various industries while also necessitating careful consideration of ethical and practical challenges.' additional_kwargs={'refusal': None} response_metadata={'token_usage': {'completion_tokens': 807, 'prompt_tokens': 13, 'total_tokens': 820, 'completion_tokens_details': {'accepted_prediction_tokens': 0, 'audio_tokens': 0, 'reasoning_tokens': 128, 'rejected_prediction_tokens': 0}, 'prompt_tokens_details': {'audio_tokens': 0, 'cached_tokens': 0}}, 'model_name': 'o1-mini-2024-09-12', 'system_fingerprint': 'fp_fc2f147b27', 'finish_reason': 'stop', 'logprobs': None} id='run-47bcbf2f-478a-4e18-8f29-73e7fafe4d12-0' usage_metadata={'input_tokens': 13, 'output_tokens': 807, 'total_tokens': 820, 'input_token_details': {'audio': 0, 'cache_read': 0}, 'output_token_details': {'audio': 0, 'reasoning': 128}}\n"
     ]
    }
   ],
   "source": [
    "response = llm.invoke(\"What is Agentic AI?\")\n",
    "print(response)"
   ]
  },
  {
   "cell_type": "code",
   "execution_count": null,
   "metadata": {},
   "outputs": [],
   "source": [
    "from langchain_core.prompts import ChatPromptTemplate\n",
    "\n",
    "llm = ChatOpenAI(model=\"gpt-4o\")"
   ]
  },
  {
   "cell_type": "code",
   "execution_count": 37,
   "metadata": {},
   "outputs": [],
   "source": [
    "prompt = ChatPromptTemplate.from_messages([\n",
    "    (\"system\",\"You are an AI expert. Give me the accurate answer for the question\"),\n",
    "    (\"user\", \"{input}\")\n",
    "])"
   ]
  },
  {
   "cell_type": "code",
   "execution_count": null,
   "metadata": {},
   "outputs": [
    {
     "name": "stdout",
     "output_type": "stream",
     "text": [
      "content='LangSmith is a tool developed by LangChain that provides detailed instrumentation for applications built using LangChain, enhancing monitoring, tracing, and debugging capabilities to improve the performance and reliability of language model applications. It offers insights into execution flows and helps developers optimize interactions with language models.' additional_kwargs={'refusal': None} response_metadata={'token_usage': {'completion_tokens': 55, 'prompt_tokens': 36, 'total_tokens': 91, 'completion_tokens_details': {'accepted_prediction_tokens': 0, 'audio_tokens': 0, 'reasoning_tokens': 0, 'rejected_prediction_tokens': 0}, 'prompt_tokens_details': {'audio_tokens': 0, 'cached_tokens': 0}}, 'model_name': 'gpt-4o-2024-08-06', 'system_fingerprint': 'fp_523b9b6e5f', 'finish_reason': 'stop', 'logprobs': None} id='run-2a9282a3-13e4-4861-9801-5d16c4f2df27-0' usage_metadata={'input_tokens': 36, 'output_tokens': 55, 'total_tokens': 91, 'input_token_details': {'audio': 0, 'cache_read': 0}, 'output_token_details': {'audio': 0, 'reasoning': 0}}\n"
     ]
    }
   ],
   "source": [
    "chain = prompt|llm\n",
    "\n",
    "response = chain.invoke({\"input\": \"Tell me more about Langsmith in 2 lines..\"})\n",
    "print(response)"
   ]
  }
 ],
 "metadata": {
  "kernelspec": {
   "display_name": "Python 3",
   "language": "python",
   "name": "python3"
  },
  "language_info": {
   "codemirror_mode": {
    "name": "ipython",
    "version": 3
   },
   "file_extension": ".py",
   "mimetype": "text/x-python",
   "name": "python",
   "nbconvert_exporter": "python",
   "pygments_lexer": "ipython3",
   "version": "3.12.9"
  }
 },
 "nbformat": 4,
 "nbformat_minor": 2
}
