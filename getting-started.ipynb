{
 "cells": [
  {
   "cell_type": "code",
   "execution_count": 40,
   "metadata": {},
   "outputs": [],
   "source": [
    "import os\n",
    "from dotenv import load_dotenv"
   ]
  },
  {
   "cell_type": "code",
   "execution_count": 41,
   "metadata": {},
   "outputs": [],
   "source": [
    "load_dotenv()\n",
    "os.environ[\"OPENAI_API_KEY\"] = os.getenv(\"OPENAI_API_KEY\")\n",
    "\n",
    "## Langsmith Tracking and Tracing\n",
    "os.environ[\"LANGCHAIN_API_KEY\"] = os.getenv(\"LANGCHAIN_API_KEY\")\n",
    "os.environ[\"LANGCHAIN_TRACING_v2\"] = \"true\"\n",
    "os.environ[\"LANGCHAIN_PROJECT\"] = os.getenv(\"LANGCHAIN_PROJECT\")"
   ]
  },
  {
   "cell_type": "code",
   "execution_count": 42,
   "metadata": {},
   "outputs": [
    {
     "name": "stdout",
     "output_type": "stream",
     "text": [
      "client=<openai.resources.chat.completions.completions.Completions object at 0x00000180B6DAE930> async_client=<openai.resources.chat.completions.completions.AsyncCompletions object at 0x00000180C0774590> root_client=<openai.OpenAI object at 0x00000180BF6C7380> root_async_client=<openai.AsyncOpenAI object at 0x00000180B6DAC140> model_name='o1-mini' temperature=1.0 model_kwargs={} openai_api_key=SecretStr('**********')\n"
     ]
    }
   ],
   "source": [
    "from langchain_openai import ChatOpenAI\n",
    "llm = ChatOpenAI(model=\"o1-mini\")\n",
    "print(llm)"
   ]
  },
  {
   "cell_type": "code",
   "execution_count": 43,
   "metadata": {},
   "outputs": [
    {
     "name": "stdout",
     "output_type": "stream",
     "text": [
      "content='**Agentic AI** refers to artificial intelligence systems designed with agency, meaning they possess the capability to act autonomously to achieve specific goals or objectives. Unlike traditional AI systems that perform tasks strictly based on predefined instructions, agentic AI can make independent decisions, adapt to changing environments, and take actions without continuous human oversight. This concept draws inspiration from the notion of \"agency\" in philosophy and social sciences, where an agent is an entity capable of acting independently to influence outcomes.\\n\\n### Key Characteristics of Agentic AI:\\n\\n1. **Autonomy:** Agentic AI systems operate with a degree of independence, making decisions without the need for constant human intervention.\\n\\n2. **Goal-Oriented Behavior:** These systems are designed to pursue specific objectives. They can set sub-goals, plan actions, and adjust strategies to achieve their targets.\\n\\n3. **Perception and Interaction:** Agentic AI can perceive its environment through various sensors or data inputs and interact with it using actuators or other output mechanisms.\\n\\n4. **Adaptability and Learning:** Such AI systems often incorporate machine learning algorithms that allow them to learn from experiences, adapt to new situations, and improve their performance over time.\\n\\n5. **Decision-Making:** They possess the capability to evaluate options, assess potential outcomes, and make choices that best align with their goals.\\n\\n### Examples of Agentic AI:\\n\\n- **Autonomous Vehicles:** Self-driving cars navigate roads, make real-time decisions to avoid obstacles, and optimize routes without human drivers.\\n\\n- **Personal Assistants:** Advanced virtual assistants (like some iterations of virtual agents) can manage schedules, send communications, and perform tasks based on user preferences and context.\\n\\n- **Robotics:** Service robots in industries or healthcare that perform tasks ranging from assembly to patient care autonomously.\\n\\n- **Financial Trading Systems:** AI-driven trading bots that analyze market data and execute trades to maximize profits based on predefined strategies.\\n\\n### Implications and Considerations:\\n\\nWhile agentic AI offers significant advantages in efficiency, scalability, and the ability to handle complex tasks, it also raises important ethical and safety considerations:\\n\\n- **Accountability:** Determining responsibility for the actions taken by autonomous AI systems can be challenging.\\n\\n- **Bias and Fairness:** Ensuring that agentic AI systems make unbiased decisions requires careful design and constant monitoring.\\n\\n- **Security:** Autonomous systems must be safeguarded against malicious interventions that could manipulate their behavior.\\n\\n- **Job Displacement:** As AI systems take on more autonomous roles, there may be impacts on employment in certain sectors.\\n\\n- **Ethical Decision-Making:** Incorporating ethical frameworks into AI decision-making processes is crucial, especially in sensitive applications like healthcare or law enforcement.\\n\\n### Future Outlook:\\n\\nThe development of agentic AI is a rapidly advancing field within artificial intelligence research. As these systems become more sophisticated, they hold the potential to transform various industries by automating complex tasks, enhancing productivity, and enabling new capabilities. However, it is essential to balance technological advancements with robust ethical guidelines and regulatory frameworks to ensure that agentic AI contributes positively to society.\\n\\n---\\n\\nIn summary, **Agentic AI** embodies the next generation of artificial intelligence systems that go beyond simple task execution to exhibit autonomous, goal-driven behavior. Their ability to perceive, decide, and act independently makes them powerful tools across multiple domains, while also necessitating careful consideration of the accompanying ethical and societal impacts.' additional_kwargs={'refusal': None} response_metadata={'token_usage': {'completion_tokens': 1004, 'prompt_tokens': 13, 'total_tokens': 1017, 'completion_tokens_details': {'accepted_prediction_tokens': 0, 'audio_tokens': 0, 'reasoning_tokens': 320, 'rejected_prediction_tokens': 0}, 'prompt_tokens_details': {'audio_tokens': 0, 'cached_tokens': 0}}, 'model_name': 'o1-mini-2024-09-12', 'system_fingerprint': 'fp_5c373483f1', 'finish_reason': 'stop', 'logprobs': None} id='run-2e1314af-da7a-48f7-850c-a0e04d3c0c9c-0' usage_metadata={'input_tokens': 13, 'output_tokens': 1004, 'total_tokens': 1017, 'input_token_details': {'audio': 0, 'cache_read': 0}, 'output_token_details': {'audio': 0, 'reasoning': 320}}\n"
     ]
    }
   ],
   "source": [
    "response = llm.invoke(\"What is Agentic AI?\")\n",
    "print(response)"
   ]
  },
  {
   "cell_type": "code",
   "execution_count": 44,
   "metadata": {},
   "outputs": [],
   "source": [
    "from langchain_core.prompts import ChatPromptTemplate\n",
    "\n",
    "llm = ChatOpenAI(model=\"gpt-4o\")"
   ]
  },
  {
   "cell_type": "code",
   "execution_count": 45,
   "metadata": {},
   "outputs": [],
   "source": [
    "prompt = ChatPromptTemplate.from_messages([\n",
    "    (\"system\",\"You are an AI expert. Give me the accurate answer for the question\"),\n",
    "    (\"user\", \"{input}\")\n",
    "])"
   ]
  },
  {
   "cell_type": "code",
   "execution_count": null,
   "metadata": {},
   "outputs": [
    {
     "name": "stdout",
     "output_type": "stream",
     "text": [
      "content='Langsmith is a platform designed to help developers build, fine-tune, and deploy language models more efficiently. It offers tools for managing model experiments, optimizing performance, and integrating models into applications.' additional_kwargs={'refusal': None} response_metadata={'token_usage': {'completion_tokens': 40, 'prompt_tokens': 36, 'total_tokens': 76, 'completion_tokens_details': {'accepted_prediction_tokens': 0, 'audio_tokens': 0, 'reasoning_tokens': 0, 'rejected_prediction_tokens': 0}, 'prompt_tokens_details': {'audio_tokens': 0, 'cached_tokens': 0}}, 'model_name': 'gpt-4o-2024-08-06', 'system_fingerprint': 'fp_eb9dce56a8', 'finish_reason': 'stop', 'logprobs': None} id='run-89e75af7-7952-475f-916d-5e159a2ef398-0' usage_metadata={'input_tokens': 36, 'output_tokens': 40, 'total_tokens': 76, 'input_token_details': {'audio': 0, 'cache_read': 0}, 'output_token_details': {'audio': 0, 'reasoning': 0}}\n"
     ]
    }
   ],
   "source": [
    "chain = prompt|llm\n",
    "\n",
    "response = chain.invoke({\"input\": \"Tell me more about Langsmith in 2 lines..\"})\n",
    "print(response)"
   ]
  }
 ],
 "metadata": {
  "kernelspec": {
   "display_name": "Python 3",
   "language": "python",
   "name": "python3"
  },
  "language_info": {
   "codemirror_mode": {
    "name": "ipython",
    "version": 3
   },
   "file_extension": ".py",
   "mimetype": "text/x-python",
   "name": "python",
   "nbconvert_exporter": "python",
   "pygments_lexer": "ipython3",
   "version": "3.12.9"
  }
 },
 "nbformat": 4,
 "nbformat_minor": 2
}
